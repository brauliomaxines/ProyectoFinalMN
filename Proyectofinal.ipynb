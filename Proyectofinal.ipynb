{
  "nbformat": 4,
  "nbformat_minor": 0,
  "metadata": {
    "colab": {
      "name": "Proyectofinal.ipynb",
      "provenance": [],
      "collapsed_sections": []
    },
    "kernelspec": {
      "name": "python3",
      "display_name": "Python 3"
    },
    "language_info": {
      "name": "python"
    }
  },
  "cells": [
    {
      "cell_type": "markdown",
      "metadata": {
        "id": "0R5k_LDIG6lE"
      },
      "source": [
        "#Metodo de Jacobi"
      ]
    },
    {
      "cell_type": "code",
      "metadata": {
        "id": "2TjGA94plaR9"
      },
      "source": [
        "import numpy as np"
      ],
      "execution_count": 4,
      "outputs": []
    },
    {
      "cell_type": "code",
      "metadata": {
        "id": "yxKbEQIQmiAf"
      },
      "source": [
        "#Matriz de coeficinetes\n",
        "A = ([\n",
        "    [17,-2,-3],\n",
        "    [-5,-21,-2],\n",
        "    [-5,-5,22]\n",
        "])\n",
        "#Vector de terminos independientes\n",
        "b = ([500,200,30])"
      ],
      "execution_count": 5,
      "outputs": []
    },
    {
      "cell_type": "code",
      "metadata": {
        "colab": {
          "base_uri": "https://localhost:8080/"
        },
        "id": "bqMabJQantyd",
        "outputId": "1270c51e-4b3b-44ef-b196-e7b7e053a15c"
      },
      "source": [
        "determinante = np.linalg.det(A)\n",
        "if determinante != 0:\n",
        "    print(\"El sistema tiene solución y su determinante es: \", determinante)\n",
        "else:\n",
        "    print(\"Tu sistema no tiene solución, o tiene soluciones infinitas\")"
      ],
      "execution_count": 6,
      "outputs": [
        {
          "output_type": "stream",
          "name": "stdout",
          "text": [
            "El sistema tiene solución y su determinante es:  -8023.999999999991\n"
          ]
        }
      ]
    },
    {
      "cell_type": "code",
      "metadata": {
        "colab": {
          "base_uri": "https://localhost:8080/"
        },
        "id": "0EAgz0RlwK2F",
        "outputId": "e0695e5d-dddf-4ad2-8462-114206eae2ce"
      },
      "source": [
        "#Variables con valores iniciales\n",
        "\n",
        "tolerancia = 0.0000001\n",
        "error = 100000\n",
        "iteraciones = 50\n",
        "n = len(A)\n",
        "x = np.zeros(n)\n",
        "x1 = np.copy(x)\n",
        "k = 0\n",
        "error1=[0]\n",
        "\n",
        "while k < iteraciones and error > tolerancia:\n",
        "    print(\"iteración: \", k)\n",
        "    for i in range(n):\n",
        "        sumatoria = 0\n",
        "        for j in range(n):\n",
        "            if i != j:\n",
        "                sumatoria += (A[i][j] * x[j])\n",
        "        x[i] = (b[i]-sumatoria) / A[i][i]\n",
        "        print(\"x(\",i,\"): \", x[i])\n",
        "\n",
        "    error = np.linalg.norm(x-x1)\n",
        "    error1.append(error)\n",
        "    x1 = np.copy(x)\n",
        "\n",
        "    print(\"Error: \", error1[k])\n",
        "    print()\n",
        "\n",
        "    k += 1\n",
        "\n",
        "\n",
        "print(\"\")\n",
        "print('solucion: ' , np.linalg.solve(A,b))"
      ],
      "execution_count": 7,
      "outputs": [
        {
          "output_type": "stream",
          "name": "stdout",
          "text": [
            "iteración:  0\n",
            "x( 0 ):  29.41176470588235\n",
            "x( 1 ):  -16.526610644257705\n",
            "x( 2 ):  4.292080468551057\n",
            "Error:  0\n",
            "\n",
            "iteración:  1\n",
            "x( 0 ):  28.224883536302222\n",
            "x( 1 ):  -16.652789458029204\n",
            "x( 2 ):  3.99365774506205\n",
            "Error:  34.00886233395049\n",
            "\n",
            "iteración:  2\n",
            "x( 0 ):  28.15737613641928\n",
            "x( 1 ):  -16.608295055820026\n",
            "x( 2 ):  3.9884275183180127\n",
            "Error:  1.230310580968592\n",
            "\n",
            "iteración:  3\n",
            "x( 0 ):  28.161687790783176\n",
            "x( 1 ):  -16.608823523359614\n",
            "x( 2 ):  3.989287333505354\n",
            "Error:  0.08102071425692065\n",
            "\n",
            "iteración:  4\n",
            "x( 0 ):  28.161777350223343\n",
            "x( 1 ):  -16.608926734196547\n",
            "x( 2 ):  3.9892842309151813\n",
            "Error:  0.004428196410558613\n",
            "\n",
            "iteración:  5\n",
            "x( 0 ):  28.161764660256026\n",
            "x( 1 ):  -16.608923417290974\n",
            "x( 2 ):  3.9892821006738757\n",
            "Error:  0.0001366857573014496\n",
            "\n",
            "iteración:  6\n",
            "x( 0 ):  28.161764674555275\n",
            "x( 1 ):  -16.608923217815434\n",
            "x( 2 ):  3.9892821492590547\n",
            "Error:  1.3288154917359598e-05\n",
            "\n",
            "iteración:  7\n",
            "x( 0 ):  28.16176470659684\n",
            "x( 1 ):  -16.60892323007154\n",
            "x( 2 ):  3.9892821537557506\n",
            "Error:  2.0580446849987388e-07\n",
            "\n",
            "\n",
            "solucion:  [ 28.16176471 -16.60892323   3.98928215]\n"
          ]
        }
      ]
    }
  ]
}